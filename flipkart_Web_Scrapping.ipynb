{
  "nbformat": 4,
  "nbformat_minor": 0,
  "metadata": {
    "colab": {
      "provenance": [],
      "mount_file_id": "1nOmIiuIqoWmuUa0YkTwTs9GA-QQjYq10",
      "authorship_tag": "ABX9TyPavzZpOWhussDJpY/O534j",
      "include_colab_link": true
    },
    "kernelspec": {
      "name": "python3",
      "display_name": "Python 3"
    },
    "language_info": {
      "name": "python"
    }
  },
  "cells": [
    {
      "cell_type": "markdown",
      "metadata": {
        "id": "view-in-github",
        "colab_type": "text"
      },
      "source": [
        "<a href=\"https://colab.research.google.com/github/Nishanth-thiyakarajan/Web-Scraping-using-Python/blob/main/flipkart_Web_Scrapping.ipynb\" target=\"_parent\"><img src=\"https://colab.research.google.com/assets/colab-badge.svg\" alt=\"Open In Colab\"/></a>"
      ]
    },
    {
      "cell_type": "code",
      "execution_count": 1,
      "metadata": {
        "id": "e4pp_xcnqpn0"
      },
      "outputs": [],
      "source": [
        "from bs4 import BeautifulSoup\n",
        "import requests\n",
        "import time\n",
        "import datetime\n",
        "import smtplib"
      ]
    },
    {
      "cell_type": "code",
      "source": [
        "# Connect to Website and pull in data\n",
        "\n",
        "URL = 'https://www.flipkart.com/apple-iphone-11-red-64-gb/p/itmc3935326f2feb?pid=MOBFWQ6BYYV3FCU7&lid=LSTMOBFWQ6BYYV3FCU7JCCDZJ&marketplace=FLIPKART&sattr[]=color&sattr[]=storage&st=color'\n",
        "\n",
        "headers = {\"User-Agent\": \"Mozilla/5.0 (Windows NT 10.0; Win64; x64) AppleWebKit/537.36 (KHTML, like Gecko) Chrome/107.0.0.0 Safari/537.36\", \"Accept-Encoding\":\"gzip, deflate\", \"Accept\":\"text/html,application/xhtml+xml,application/xml;q=0.9,*/*;q=0.8\", \"DNT\":\"1\",\"Connection\":\"close\", \"Upgrade-Insecure-Requests\":\"1\"}\n",
        "\n",
        "page = requests.get(URL, headers=headers)\n",
        "\n",
        "soup1 = BeautifulSoup(page.content, \"html.parser\")\n",
        "\n",
        "soup2 = BeautifulSoup(soup1.prettify(), \"html.parser\")\n",
        "\n",
        "title = soup2.find(class_='B_NuCI').get_text()\n",
        "\n",
        "price = soup2.find(class_='_30jeq3 _16Jk6d').get_text()\n",
        "\n",
        "stroage_list=[]\n",
        "stroage = soup2.find_all('a', class_=\"_1fGeJ5\")\n",
        "for r in stroage:\n",
        "    stroage_list.append(r.get_text().strip())\n",
        "\n",
        "color_list=[]\n",
        "color = soup2.find_all('li', {'id':[\"swatch-0-color\",\"swatch-1-color\",\"swatch-2-color\",\"swatch-3-color\",\"swatch-4-color\",\"swatch-5-color\"]})\n",
        "for r in color:\n",
        "    color_list.append(r.get_text().strip())\n",
        "\n",
        "rating = soup2.find(class_='_3LWZlK').get_text()\n",
        "\n",
        "print(title.strip())\n",
        "print(price.strip()[1:])\n",
        "print(stroage_list)\n",
        "print(color_list)\n",
        "print(rating.strip())\n",
        "\n",
        "today = datetime.date.today()\n",
        "print(today)\n"
      ],
      "metadata": {
        "colab": {
          "base_uri": "https://localhost:8080/"
        },
        "id": "HAQseBCbrkas",
        "outputId": "fbc8fca5-e21c-4047-aa10-df5f28cb2916"
      },
      "execution_count": 67,
      "outputs": [
        {
          "output_type": "stream",
          "name": "stdout",
          "text": [
            "APPLE iPhone 11 (Red, 64 GB)\n",
            "39,999\n",
            "['64 GB', '128 GB']\n",
            "['Black', 'Green', 'Purple', 'Red', 'White', 'Yellow']\n",
            "4.6\n",
            "2022-11-18\n"
          ]
        }
      ]
    },
    {
      "cell_type": "code",
      "source": [
        "import csv \n",
        "\n",
        "header = ['Title', 'Price', 'Available Stroage','Available Colours','Ratings','Date']\n",
        "data = [title.strip(), price.strip()[1:], stroage_list, color_list, rating.strip(), today]\n",
        "\n",
        "\n",
        "with open('FlipkartWebScraperDataset.csv', 'w', newline='', encoding='UTF8') as f:\n",
        "    writer = csv.writer(f)\n",
        "    writer.writerow(header)\n",
        "    writer.writerow(data)"
      ],
      "metadata": {
        "id": "CLirgUisrmDh"
      },
      "execution_count": 69,
      "outputs": []
    },
    {
      "cell_type": "code",
      "source": [],
      "metadata": {
        "id": "wwXTRTZ7rmia"
      },
      "execution_count": null,
      "outputs": []
    },
    {
      "cell_type": "code",
      "source": [],
      "metadata": {
        "id": "kf5TgpTKrlGf"
      },
      "execution_count": null,
      "outputs": []
    }
  ]
}