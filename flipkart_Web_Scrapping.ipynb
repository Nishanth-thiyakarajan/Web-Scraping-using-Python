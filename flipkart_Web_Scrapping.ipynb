{
  "nbformat": 4,
  "nbformat_minor": 0,
  "metadata": {
    "colab": {
      "provenance": [],
      "mount_file_id": "1nOmIiuIqoWmuUa0YkTwTs9GA-QQjYq10",
      "authorship_tag": "ABX9TyPI+NpExB0KFU5hsjv7ln1U",
      "include_colab_link": true
    },
    "kernelspec": {
      "name": "python3",
      "display_name": "Python 3"
    },
    "language_info": {
      "name": "python"
    }
  },
  "cells": [
    {
      "cell_type": "markdown",
      "metadata": {
        "id": "view-in-github",
        "colab_type": "text"
      },
      "source": [
        "<a href=\"https://colab.research.google.com/github/Nishanth-thiyakarajan/Web-Scraping-using-Python/blob/main/flipkart_Web_Scrapping.ipynb\" target=\"_parent\"><img src=\"https://colab.research.google.com/assets/colab-badge.svg\" alt=\"Open In Colab\"/></a>"
      ]
    },
    {
      "cell_type": "markdown",
      "source": [
        "### Importing Libraries."
      ],
      "metadata": {
        "id": "yO1s07pvNMwj"
      }
    },
    {
      "cell_type": "code",
      "execution_count": 73,
      "metadata": {
        "id": "e4pp_xcnqpn0"
      },
      "outputs": [],
      "source": [
        "from bs4 import BeautifulSoup\n",
        "import requests\n",
        "import time\n",
        "import datetime\n",
        "import smtplib\n",
        "import csv \n",
        "import pandas as pd"
      ]
    },
    {
      "cell_type": "markdown",
      "source": [
        "\n",
        "### Connecting to Website and pulling the data\n",
        "\n"
      ],
      "metadata": {
        "id": "p1jRwH0jNvDN"
      }
    },
    {
      "cell_type": "code",
      "source": [
        "#We have given Iphone 11 model link from flipkart to get the details of this mobile.\n",
        "\n",
        "URL = 'https://www.flipkart.com/apple-iphone-11-red-64-gb/p/itmc3935326f2feb?pid=MOBFWQ6BYYV3FCU7&lid=LSTMOBFWQ6BYYV3FCU7JCCDZJ&marketplace=FLIPKART&sattr[]=color&sattr[]=storage&st=color'\n",
        "\n",
        "headers = {\"User-Agent\": \"Mozilla/5.0 (Windows NT 10.0; Win64; x64) AppleWebKit/537.36 (KHTML, like Gecko) Chrome/107.0.0.0 Safari/537.36\", \"Accept-Encoding\":\"gzip, deflate\", \"Accept\":\"text/html,application/xhtml+xml,application/xml;q=0.9,*/*;q=0.8\", \"DNT\":\"1\",\"Connection\":\"close\", \"Upgrade-Insecure-Requests\":\"1\"}\n",
        "\n",
        "page = requests.get(URL, headers=headers)\n",
        "\n",
        "soup1 = BeautifulSoup(page.content, \"html.parser\")\n",
        "\n",
        "soup2 = BeautifulSoup(soup1.prettify(), \"html.parser\")\n",
        "\n",
        "#model Name of the Mobile\n",
        "\n",
        "title = soup2.find(class_='B_NuCI').get_text()\n",
        "\n",
        "#price of the Mobile\n",
        "\n",
        "price = soup2.find(class_='_30jeq3 _16Jk6d').get_text()\n",
        "\n",
        "# to get the stroage_list of this mobile\n",
        "\n",
        "stroage_list=[]\n",
        "stroage = soup2.find_all('a', class_=\"_1fGeJ5\")\n",
        "for r in stroage:\n",
        "    stroage_list.append(r.get_text().strip())\n",
        "\n",
        "# to get the colour_list of this mobile\n",
        "\n",
        "color_list=[]\n",
        "color = soup2.find_all('li', {'id':[\"swatch-0-color\",\"swatch-1-color\",\"swatch-2-color\",\"swatch-3-color\",\"swatch-4-color\",\"swatch-5-color\"]})\n",
        "for r in color:\n",
        "    color_list.append(r.get_text().strip())\n",
        "\n",
        "#rating of the Mobile\n",
        "\n",
        "rating = soup2.find(class_='_3LWZlK').get_text()\n",
        "\n",
        "\n",
        "#Verify the data by printing the details scraped.\n",
        "\n",
        "print(title.strip())\n",
        "print(price.strip()[1:])\n",
        "print(stroage_list)\n",
        "print(color_list)\n",
        "print(rating.strip())\n"
      ],
      "metadata": {
        "colab": {
          "base_uri": "https://localhost:8080/"
        },
        "id": "HAQseBCbrkas",
        "outputId": "cce16284-864a-4439-e284-74d2742a423c"
      },
      "execution_count": 80,
      "outputs": [
        {
          "output_type": "stream",
          "name": "stdout",
          "text": [
            "APPLE iPhone 11 (Red, 64 GB)\n",
            "39,999\n",
            "['64 GB', '128 GB']\n",
            "['Black', 'Green', 'Purple', 'Red', 'White', 'Yellow']\n",
            "4.6\n"
          ]
        }
      ]
    },
    {
      "cell_type": "markdown",
      "source": [
        "### Adding the Date"
      ],
      "metadata": {
        "id": "FywIZdBROhcP"
      }
    },
    {
      "cell_type": "code",
      "source": [
        "today = datetime.date.today()\n",
        "print(today)"
      ],
      "metadata": {
        "colab": {
          "base_uri": "https://localhost:8080/"
        },
        "id": "paRxSSYGNg4y",
        "outputId": "b5c7a59e-c6f7-4fa7-9219-6059b8e6d17e"
      },
      "execution_count": 79,
      "outputs": [
        {
          "output_type": "stream",
          "name": "stdout",
          "text": [
            "2022-11-18\n"
          ]
        }
      ]
    },
    {
      "cell_type": "markdown",
      "source": [
        "### Writing the data into the CSV file.(Note : using Colab will save the CSV file in ./content/[filename.csv])."
      ],
      "metadata": {
        "id": "vlcddc-EOmj0"
      }
    },
    {
      "cell_type": "code",
      "source": [
        "header = ['Title', 'Price', 'Available Stroage','Available Colours','Ratings','Date']\n",
        "data = [title.strip(), price.strip()[1:], stroage_list, color_list, rating.strip(), today]\n",
        "\n",
        "\n",
        "with open('FlipkartWebScraperDataset.csv', 'w', newline='', encoding='UTF8') as f:\n",
        "    writer = csv.writer(f)\n",
        "    writer.writerow(header)\n",
        "    writer.writerow(data)"
      ],
      "metadata": {
        "id": "CLirgUisrmDh"
      },
      "execution_count": 81,
      "outputs": []
    },
    {
      "cell_type": "markdown",
      "source": [
        "### Reading the CSV file using Pandas library."
      ],
      "metadata": {
        "id": "0agGnoHEO97p"
      }
    },
    {
      "cell_type": "code",
      "source": [
        "df = pd.read_csv(r'/content/FlipkartWebScraperDataset.csv')\n",
        "df"
      ],
      "metadata": {
        "colab": {
          "base_uri": "https://localhost:8080/",
          "height": 112
        },
        "id": "wwXTRTZ7rmia",
        "outputId": "3df31476-1efe-4026-b058-c119d157a7cb"
      },
      "execution_count": 89,
      "outputs": [
        {
          "output_type": "execute_result",
          "data": {
            "text/plain": [
              "                          Title   Price    Available Stroage  \\\n",
              "0  APPLE iPhone 11 (Red, 64 GB)  39,999  ['64 GB', '128 GB']   \n",
              "1  APPLE iPhone 11 (Red, 64 GB)  39,999  ['64 GB', '128 GB']   \n",
              "\n",
              "                                   Available Colours  Ratings        Date  \n",
              "0  ['Black', 'Green', 'Purple', 'Red', 'White', '...      4.6  2022-11-18  \n",
              "1  ['Black', 'Green', 'Purple', 'Red', 'White', '...      4.6  2022-11-18  "
            ],
            "text/html": [
              "\n",
              "  <div id=\"df-84b623a5-e4cb-4b7c-b121-b3f0307274f6\">\n",
              "    <div class=\"colab-df-container\">\n",
              "      <div>\n",
              "<style scoped>\n",
              "    .dataframe tbody tr th:only-of-type {\n",
              "        vertical-align: middle;\n",
              "    }\n",
              "\n",
              "    .dataframe tbody tr th {\n",
              "        vertical-align: top;\n",
              "    }\n",
              "\n",
              "    .dataframe thead th {\n",
              "        text-align: right;\n",
              "    }\n",
              "</style>\n",
              "<table border=\"1\" class=\"dataframe\">\n",
              "  <thead>\n",
              "    <tr style=\"text-align: right;\">\n",
              "      <th></th>\n",
              "      <th>Title</th>\n",
              "      <th>Price</th>\n",
              "      <th>Available Stroage</th>\n",
              "      <th>Available Colours</th>\n",
              "      <th>Ratings</th>\n",
              "      <th>Date</th>\n",
              "    </tr>\n",
              "  </thead>\n",
              "  <tbody>\n",
              "    <tr>\n",
              "      <th>0</th>\n",
              "      <td>APPLE iPhone 11 (Red, 64 GB)</td>\n",
              "      <td>39,999</td>\n",
              "      <td>['64 GB', '128 GB']</td>\n",
              "      <td>['Black', 'Green', 'Purple', 'Red', 'White', '...</td>\n",
              "      <td>4.6</td>\n",
              "      <td>2022-11-18</td>\n",
              "    </tr>\n",
              "    <tr>\n",
              "      <th>1</th>\n",
              "      <td>APPLE iPhone 11 (Red, 64 GB)</td>\n",
              "      <td>39,999</td>\n",
              "      <td>['64 GB', '128 GB']</td>\n",
              "      <td>['Black', 'Green', 'Purple', 'Red', 'White', '...</td>\n",
              "      <td>4.6</td>\n",
              "      <td>2022-11-18</td>\n",
              "    </tr>\n",
              "  </tbody>\n",
              "</table>\n",
              "</div>\n",
              "      <button class=\"colab-df-convert\" onclick=\"convertToInteractive('df-84b623a5-e4cb-4b7c-b121-b3f0307274f6')\"\n",
              "              title=\"Convert this dataframe to an interactive table.\"\n",
              "              style=\"display:none;\">\n",
              "        \n",
              "  <svg xmlns=\"http://www.w3.org/2000/svg\" height=\"24px\"viewBox=\"0 0 24 24\"\n",
              "       width=\"24px\">\n",
              "    <path d=\"M0 0h24v24H0V0z\" fill=\"none\"/>\n",
              "    <path d=\"M18.56 5.44l.94 2.06.94-2.06 2.06-.94-2.06-.94-.94-2.06-.94 2.06-2.06.94zm-11 1L8.5 8.5l.94-2.06 2.06-.94-2.06-.94L8.5 2.5l-.94 2.06-2.06.94zm10 10l.94 2.06.94-2.06 2.06-.94-2.06-.94-.94-2.06-.94 2.06-2.06.94z\"/><path d=\"M17.41 7.96l-1.37-1.37c-.4-.4-.92-.59-1.43-.59-.52 0-1.04.2-1.43.59L10.3 9.45l-7.72 7.72c-.78.78-.78 2.05 0 2.83L4 21.41c.39.39.9.59 1.41.59.51 0 1.02-.2 1.41-.59l7.78-7.78 2.81-2.81c.8-.78.8-2.07 0-2.86zM5.41 20L4 18.59l7.72-7.72 1.47 1.35L5.41 20z\"/>\n",
              "  </svg>\n",
              "      </button>\n",
              "      \n",
              "  <style>\n",
              "    .colab-df-container {\n",
              "      display:flex;\n",
              "      flex-wrap:wrap;\n",
              "      gap: 12px;\n",
              "    }\n",
              "\n",
              "    .colab-df-convert {\n",
              "      background-color: #E8F0FE;\n",
              "      border: none;\n",
              "      border-radius: 50%;\n",
              "      cursor: pointer;\n",
              "      display: none;\n",
              "      fill: #1967D2;\n",
              "      height: 32px;\n",
              "      padding: 0 0 0 0;\n",
              "      width: 32px;\n",
              "    }\n",
              "\n",
              "    .colab-df-convert:hover {\n",
              "      background-color: #E2EBFA;\n",
              "      box-shadow: 0px 1px 2px rgba(60, 64, 67, 0.3), 0px 1px 3px 1px rgba(60, 64, 67, 0.15);\n",
              "      fill: #174EA6;\n",
              "    }\n",
              "\n",
              "    [theme=dark] .colab-df-convert {\n",
              "      background-color: #3B4455;\n",
              "      fill: #D2E3FC;\n",
              "    }\n",
              "\n",
              "    [theme=dark] .colab-df-convert:hover {\n",
              "      background-color: #434B5C;\n",
              "      box-shadow: 0px 1px 3px 1px rgba(0, 0, 0, 0.15);\n",
              "      filter: drop-shadow(0px 1px 2px rgba(0, 0, 0, 0.3));\n",
              "      fill: #FFFFFF;\n",
              "    }\n",
              "  </style>\n",
              "\n",
              "      <script>\n",
              "        const buttonEl =\n",
              "          document.querySelector('#df-84b623a5-e4cb-4b7c-b121-b3f0307274f6 button.colab-df-convert');\n",
              "        buttonEl.style.display =\n",
              "          google.colab.kernel.accessAllowed ? 'block' : 'none';\n",
              "\n",
              "        async function convertToInteractive(key) {\n",
              "          const element = document.querySelector('#df-84b623a5-e4cb-4b7c-b121-b3f0307274f6');\n",
              "          const dataTable =\n",
              "            await google.colab.kernel.invokeFunction('convertToInteractive',\n",
              "                                                     [key], {});\n",
              "          if (!dataTable) return;\n",
              "\n",
              "          const docLinkHtml = 'Like what you see? Visit the ' +\n",
              "            '<a target=\"_blank\" href=https://colab.research.google.com/notebooks/data_table.ipynb>data table notebook</a>'\n",
              "            + ' to learn more about interactive tables.';\n",
              "          element.innerHTML = '';\n",
              "          dataTable['output_type'] = 'display_data';\n",
              "          await google.colab.output.renderOutput(dataTable, element);\n",
              "          const docLink = document.createElement('div');\n",
              "          docLink.innerHTML = docLinkHtml;\n",
              "          element.appendChild(docLink);\n",
              "        }\n",
              "      </script>\n",
              "    </div>\n",
              "  </div>\n",
              "  "
            ]
          },
          "metadata": {},
          "execution_count": 89
        }
      ]
    },
    {
      "cell_type": "markdown",
      "source": [
        "### Now we are appending data to the csv by changing the 'w' to 'a+'.\n",
        "\n",
        "'w' means creating and writing the file.\n",
        "\n",
        "'a+' means appending the data in the existing file."
      ],
      "metadata": {
        "id": "XH2iJvWLPFCv"
      }
    },
    {
      "cell_type": "code",
      "source": [
        "with open('FlipkartWebScraperDataset.csv', 'a+', newline='', encoding='UTF8') as f:\n",
        "    writer = csv.writer(f)\n",
        "    writer.writerow(data)"
      ],
      "metadata": {
        "id": "kf5TgpTKrlGf"
      },
      "execution_count": 85,
      "outputs": []
    },
    {
      "cell_type": "markdown",
      "source": [
        "We have changed the writing mode of the csv. To verify, we are printing the csv file another time, this time same data present 2 times. Becasue, we ahve used the same data to write and append(above).\n"
      ],
      "metadata": {
        "id": "RCfYblEPPiDu"
      }
    },
    {
      "cell_type": "code",
      "source": [
        "df = pd.read_csv('/content/FlipkartWebScraperDataset.csv')\n",
        "\n",
        "df"
      ],
      "metadata": {
        "colab": {
          "base_uri": "https://localhost:8080/",
          "height": 112
        },
        "id": "tR3Vv_k-Mi9w",
        "outputId": "69063548-f610-4a3e-cb4d-a0573cffa5b9"
      },
      "execution_count": 88,
      "outputs": [
        {
          "output_type": "execute_result",
          "data": {
            "text/plain": [
              "                          Title   Price    Available Stroage  \\\n",
              "0  APPLE iPhone 11 (Red, 64 GB)  39,999  ['64 GB', '128 GB']   \n",
              "1  APPLE iPhone 11 (Red, 64 GB)  39,999  ['64 GB', '128 GB']   \n",
              "\n",
              "                                   Available Colours  Ratings        Date  \n",
              "0  ['Black', 'Green', 'Purple', 'Red', 'White', '...      4.6  2022-11-18  \n",
              "1  ['Black', 'Green', 'Purple', 'Red', 'White', '...      4.6  2022-11-18  "
            ],
            "text/html": [
              "\n",
              "  <div id=\"df-e8a8ddd8-f584-476a-b55f-b69e74ab2b85\">\n",
              "    <div class=\"colab-df-container\">\n",
              "      <div>\n",
              "<style scoped>\n",
              "    .dataframe tbody tr th:only-of-type {\n",
              "        vertical-align: middle;\n",
              "    }\n",
              "\n",
              "    .dataframe tbody tr th {\n",
              "        vertical-align: top;\n",
              "    }\n",
              "\n",
              "    .dataframe thead th {\n",
              "        text-align: right;\n",
              "    }\n",
              "</style>\n",
              "<table border=\"1\" class=\"dataframe\">\n",
              "  <thead>\n",
              "    <tr style=\"text-align: right;\">\n",
              "      <th></th>\n",
              "      <th>Title</th>\n",
              "      <th>Price</th>\n",
              "      <th>Available Stroage</th>\n",
              "      <th>Available Colours</th>\n",
              "      <th>Ratings</th>\n",
              "      <th>Date</th>\n",
              "    </tr>\n",
              "  </thead>\n",
              "  <tbody>\n",
              "    <tr>\n",
              "      <th>0</th>\n",
              "      <td>APPLE iPhone 11 (Red, 64 GB)</td>\n",
              "      <td>39,999</td>\n",
              "      <td>['64 GB', '128 GB']</td>\n",
              "      <td>['Black', 'Green', 'Purple', 'Red', 'White', '...</td>\n",
              "      <td>4.6</td>\n",
              "      <td>2022-11-18</td>\n",
              "    </tr>\n",
              "    <tr>\n",
              "      <th>1</th>\n",
              "      <td>APPLE iPhone 11 (Red, 64 GB)</td>\n",
              "      <td>39,999</td>\n",
              "      <td>['64 GB', '128 GB']</td>\n",
              "      <td>['Black', 'Green', 'Purple', 'Red', 'White', '...</td>\n",
              "      <td>4.6</td>\n",
              "      <td>2022-11-18</td>\n",
              "    </tr>\n",
              "  </tbody>\n",
              "</table>\n",
              "</div>\n",
              "      <button class=\"colab-df-convert\" onclick=\"convertToInteractive('df-e8a8ddd8-f584-476a-b55f-b69e74ab2b85')\"\n",
              "              title=\"Convert this dataframe to an interactive table.\"\n",
              "              style=\"display:none;\">\n",
              "        \n",
              "  <svg xmlns=\"http://www.w3.org/2000/svg\" height=\"24px\"viewBox=\"0 0 24 24\"\n",
              "       width=\"24px\">\n",
              "    <path d=\"M0 0h24v24H0V0z\" fill=\"none\"/>\n",
              "    <path d=\"M18.56 5.44l.94 2.06.94-2.06 2.06-.94-2.06-.94-.94-2.06-.94 2.06-2.06.94zm-11 1L8.5 8.5l.94-2.06 2.06-.94-2.06-.94L8.5 2.5l-.94 2.06-2.06.94zm10 10l.94 2.06.94-2.06 2.06-.94-2.06-.94-.94-2.06-.94 2.06-2.06.94z\"/><path d=\"M17.41 7.96l-1.37-1.37c-.4-.4-.92-.59-1.43-.59-.52 0-1.04.2-1.43.59L10.3 9.45l-7.72 7.72c-.78.78-.78 2.05 0 2.83L4 21.41c.39.39.9.59 1.41.59.51 0 1.02-.2 1.41-.59l7.78-7.78 2.81-2.81c.8-.78.8-2.07 0-2.86zM5.41 20L4 18.59l7.72-7.72 1.47 1.35L5.41 20z\"/>\n",
              "  </svg>\n",
              "      </button>\n",
              "      \n",
              "  <style>\n",
              "    .colab-df-container {\n",
              "      display:flex;\n",
              "      flex-wrap:wrap;\n",
              "      gap: 12px;\n",
              "    }\n",
              "\n",
              "    .colab-df-convert {\n",
              "      background-color: #E8F0FE;\n",
              "      border: none;\n",
              "      border-radius: 50%;\n",
              "      cursor: pointer;\n",
              "      display: none;\n",
              "      fill: #1967D2;\n",
              "      height: 32px;\n",
              "      padding: 0 0 0 0;\n",
              "      width: 32px;\n",
              "    }\n",
              "\n",
              "    .colab-df-convert:hover {\n",
              "      background-color: #E2EBFA;\n",
              "      box-shadow: 0px 1px 2px rgba(60, 64, 67, 0.3), 0px 1px 3px 1px rgba(60, 64, 67, 0.15);\n",
              "      fill: #174EA6;\n",
              "    }\n",
              "\n",
              "    [theme=dark] .colab-df-convert {\n",
              "      background-color: #3B4455;\n",
              "      fill: #D2E3FC;\n",
              "    }\n",
              "\n",
              "    [theme=dark] .colab-df-convert:hover {\n",
              "      background-color: #434B5C;\n",
              "      box-shadow: 0px 1px 3px 1px rgba(0, 0, 0, 0.15);\n",
              "      filter: drop-shadow(0px 1px 2px rgba(0, 0, 0, 0.3));\n",
              "      fill: #FFFFFF;\n",
              "    }\n",
              "  </style>\n",
              "\n",
              "      <script>\n",
              "        const buttonEl =\n",
              "          document.querySelector('#df-e8a8ddd8-f584-476a-b55f-b69e74ab2b85 button.colab-df-convert');\n",
              "        buttonEl.style.display =\n",
              "          google.colab.kernel.accessAllowed ? 'block' : 'none';\n",
              "\n",
              "        async function convertToInteractive(key) {\n",
              "          const element = document.querySelector('#df-e8a8ddd8-f584-476a-b55f-b69e74ab2b85');\n",
              "          const dataTable =\n",
              "            await google.colab.kernel.invokeFunction('convertToInteractive',\n",
              "                                                     [key], {});\n",
              "          if (!dataTable) return;\n",
              "\n",
              "          const docLinkHtml = 'Like what you see? Visit the ' +\n",
              "            '<a target=\"_blank\" href=https://colab.research.google.com/notebooks/data_table.ipynb>data table notebook</a>'\n",
              "            + ' to learn more about interactive tables.';\n",
              "          element.innerHTML = '';\n",
              "          dataTable['output_type'] = 'display_data';\n",
              "          await google.colab.output.renderOutput(dataTable, element);\n",
              "          const docLink = document.createElement('div');\n",
              "          docLink.innerHTML = docLinkHtml;\n",
              "          element.appendChild(docLink);\n",
              "        }\n",
              "      </script>\n",
              "    </div>\n",
              "  </div>\n",
              "  "
            ]
          },
          "metadata": {},
          "execution_count": 88
        }
      ]
    },
    {
      "cell_type": "markdown",
      "source": [
        "#Combine all of the above code into one function"
      ],
      "metadata": {
        "id": "qIYYuX8YM0fl"
      }
    },
    {
      "cell_type": "markdown",
      "source": [
        "#### We have created a check_price function and added all the code. Now, if we call the function, we can get the data directly to the csv file. So, we can call the function manually, or we can set a timer to call the function automatially."
      ],
      "metadata": {
        "id": "LaQGNRFAQdls"
      }
    },
    {
      "cell_type": "code",
      "source": [
        "def check_price():\n",
        "\n",
        "    URL = 'https://www.flipkart.com/apple-iphone-11-red-64-gb/p/itmc3935326f2feb?pid=MOBFWQ6BYYV3FCU7&lid=LSTMOBFWQ6BYYV3FCU7JCCDZJ&marketplace=FLIPKART&sattr[]=color&sattr[]=storage&st=color'\n",
        "\n",
        "    headers = {\"User-Agent\": \"Mozilla/5.0 (Windows NT 10.0; Win64; x64) AppleWebKit/537.36 (KHTML, like Gecko) Chrome/107.0.0.0 Safari/537.36\", \"Accept-Encoding\":\"gzip, deflate\", \"Accept\":\"text/html,application/xhtml+xml,application/xml;q=0.9,*/*;q=0.8\", \"DNT\":\"1\",\"Connection\":\"close\", \"Upgrade-Insecure-Requests\":\"1\"}\n",
        "\n",
        "    page = requests.get(URL, headers=headers)\n",
        "\n",
        "    soup1 = BeautifulSoup(page.content, \"html.parser\")\n",
        "\n",
        "    soup2 = BeautifulSoup(soup1.prettify(), \"html.parser\")\n",
        "\n",
        "    title = soup2.find(class_='B_NuCI').get_text()\n",
        "\n",
        "    price = soup2.find(class_='_30jeq3 _16Jk6d').get_text()\n",
        "\n",
        "    stroage_list=[]\n",
        "    stroage = soup2.find_all('a', class_=\"_1fGeJ5\")\n",
        "    for r in stroage:\n",
        "        stroage_list.append(r.get_text().strip())\n",
        "\n",
        "    color_list=[]\n",
        "    color = soup2.find_all('li', {'id':[\"swatch-0-color\",\"swatch-1-color\",\"swatch-2-color\",\"swatch-3-color\",\"swatch-4-color\",\"swatch-5-color\"]})\n",
        "    for r in color:\n",
        "        color_list.append(r.get_text().strip())\n",
        "\n",
        "    rating = soup2.find(class_='_3LWZlK').get_text()\n",
        "\n",
        "    import datetime\n",
        "    today = datetime.date.today()\n",
        "    \n",
        "    import csv \n",
        "\n",
        "    header = ['Title', 'Price', 'Available Stroage','Available Colours','Ratings','Date']\n",
        "    data = [title.strip(), price.strip()[1:], stroage_list, color_list, rating.strip(), today]\n",
        "\n",
        "    with open('FlipkartWebScraperDataset.csv', 'a+', newline='', encoding='UTF8') as f:\n",
        "        writer = csv.writer(f)\n",
        "        writer.writerow(data)"
      ],
      "metadata": {
        "id": "ZAEveNUFM1DO"
      },
      "execution_count": 96,
      "outputs": []
    },
    {
      "cell_type": "markdown",
      "source": [
        "I have used for loop with the iteration of 2 times to check the code running fine."
      ],
      "metadata": {
        "id": "BIF1KXmPROGF"
      }
    },
    {
      "cell_type": "code",
      "source": [
        "for i in range(2):\n",
        "    check_price()"
      ],
      "metadata": {
        "id": "y2aCouYLRfWf"
      },
      "execution_count": 97,
      "outputs": []
    },
    {
      "cell_type": "code",
      "source": [
        "df = pd.read_csv('/content/FlipkartWebScraperDataset.csv')\n",
        "\n",
        "df"
      ],
      "metadata": {
        "colab": {
          "base_uri": "https://localhost:8080/",
          "height": 175
        },
        "id": "Lgy4yZuASmFZ",
        "outputId": "c0849f13-ae66-4d75-e08a-3cb9d205a819"
      },
      "execution_count": 98,
      "outputs": [
        {
          "output_type": "execute_result",
          "data": {
            "text/plain": [
              "                          Title   Price    Available Stroage  \\\n",
              "0  APPLE iPhone 11 (Red, 64 GB)  39,999  ['64 GB', '128 GB']   \n",
              "1  APPLE iPhone 11 (Red, 64 GB)  39,999  ['64 GB', '128 GB']   \n",
              "2  APPLE iPhone 11 (Red, 64 GB)  39,999  ['64 GB', '128 GB']   \n",
              "3  APPLE iPhone 11 (Red, 64 GB)  39,999  ['64 GB', '128 GB']   \n",
              "\n",
              "                                   Available Colours  Ratings        Date  \n",
              "0  ['Black', 'Green', 'Purple', 'Red', 'White', '...      4.6  2022-11-18  \n",
              "1  ['Black', 'Green', 'Purple', 'Red', 'White', '...      4.6  2022-11-18  \n",
              "2  ['Black', 'Green', 'Purple', 'Red', 'White', '...      4.6  2022-11-18  \n",
              "3  ['Black', 'Green', 'Purple', 'Red', 'White', '...      4.6  2022-11-18  "
            ],
            "text/html": [
              "\n",
              "  <div id=\"df-d0f926c7-b674-48fe-8347-bc3f49edd798\">\n",
              "    <div class=\"colab-df-container\">\n",
              "      <div>\n",
              "<style scoped>\n",
              "    .dataframe tbody tr th:only-of-type {\n",
              "        vertical-align: middle;\n",
              "    }\n",
              "\n",
              "    .dataframe tbody tr th {\n",
              "        vertical-align: top;\n",
              "    }\n",
              "\n",
              "    .dataframe thead th {\n",
              "        text-align: right;\n",
              "    }\n",
              "</style>\n",
              "<table border=\"1\" class=\"dataframe\">\n",
              "  <thead>\n",
              "    <tr style=\"text-align: right;\">\n",
              "      <th></th>\n",
              "      <th>Title</th>\n",
              "      <th>Price</th>\n",
              "      <th>Available Stroage</th>\n",
              "      <th>Available Colours</th>\n",
              "      <th>Ratings</th>\n",
              "      <th>Date</th>\n",
              "    </tr>\n",
              "  </thead>\n",
              "  <tbody>\n",
              "    <tr>\n",
              "      <th>0</th>\n",
              "      <td>APPLE iPhone 11 (Red, 64 GB)</td>\n",
              "      <td>39,999</td>\n",
              "      <td>['64 GB', '128 GB']</td>\n",
              "      <td>['Black', 'Green', 'Purple', 'Red', 'White', '...</td>\n",
              "      <td>4.6</td>\n",
              "      <td>2022-11-18</td>\n",
              "    </tr>\n",
              "    <tr>\n",
              "      <th>1</th>\n",
              "      <td>APPLE iPhone 11 (Red, 64 GB)</td>\n",
              "      <td>39,999</td>\n",
              "      <td>['64 GB', '128 GB']</td>\n",
              "      <td>['Black', 'Green', 'Purple', 'Red', 'White', '...</td>\n",
              "      <td>4.6</td>\n",
              "      <td>2022-11-18</td>\n",
              "    </tr>\n",
              "    <tr>\n",
              "      <th>2</th>\n",
              "      <td>APPLE iPhone 11 (Red, 64 GB)</td>\n",
              "      <td>39,999</td>\n",
              "      <td>['64 GB', '128 GB']</td>\n",
              "      <td>['Black', 'Green', 'Purple', 'Red', 'White', '...</td>\n",
              "      <td>4.6</td>\n",
              "      <td>2022-11-18</td>\n",
              "    </tr>\n",
              "    <tr>\n",
              "      <th>3</th>\n",
              "      <td>APPLE iPhone 11 (Red, 64 GB)</td>\n",
              "      <td>39,999</td>\n",
              "      <td>['64 GB', '128 GB']</td>\n",
              "      <td>['Black', 'Green', 'Purple', 'Red', 'White', '...</td>\n",
              "      <td>4.6</td>\n",
              "      <td>2022-11-18</td>\n",
              "    </tr>\n",
              "  </tbody>\n",
              "</table>\n",
              "</div>\n",
              "      <button class=\"colab-df-convert\" onclick=\"convertToInteractive('df-d0f926c7-b674-48fe-8347-bc3f49edd798')\"\n",
              "              title=\"Convert this dataframe to an interactive table.\"\n",
              "              style=\"display:none;\">\n",
              "        \n",
              "  <svg xmlns=\"http://www.w3.org/2000/svg\" height=\"24px\"viewBox=\"0 0 24 24\"\n",
              "       width=\"24px\">\n",
              "    <path d=\"M0 0h24v24H0V0z\" fill=\"none\"/>\n",
              "    <path d=\"M18.56 5.44l.94 2.06.94-2.06 2.06-.94-2.06-.94-.94-2.06-.94 2.06-2.06.94zm-11 1L8.5 8.5l.94-2.06 2.06-.94-2.06-.94L8.5 2.5l-.94 2.06-2.06.94zm10 10l.94 2.06.94-2.06 2.06-.94-2.06-.94-.94-2.06-.94 2.06-2.06.94z\"/><path d=\"M17.41 7.96l-1.37-1.37c-.4-.4-.92-.59-1.43-.59-.52 0-1.04.2-1.43.59L10.3 9.45l-7.72 7.72c-.78.78-.78 2.05 0 2.83L4 21.41c.39.39.9.59 1.41.59.51 0 1.02-.2 1.41-.59l7.78-7.78 2.81-2.81c.8-.78.8-2.07 0-2.86zM5.41 20L4 18.59l7.72-7.72 1.47 1.35L5.41 20z\"/>\n",
              "  </svg>\n",
              "      </button>\n",
              "      \n",
              "  <style>\n",
              "    .colab-df-container {\n",
              "      display:flex;\n",
              "      flex-wrap:wrap;\n",
              "      gap: 12px;\n",
              "    }\n",
              "\n",
              "    .colab-df-convert {\n",
              "      background-color: #E8F0FE;\n",
              "      border: none;\n",
              "      border-radius: 50%;\n",
              "      cursor: pointer;\n",
              "      display: none;\n",
              "      fill: #1967D2;\n",
              "      height: 32px;\n",
              "      padding: 0 0 0 0;\n",
              "      width: 32px;\n",
              "    }\n",
              "\n",
              "    .colab-df-convert:hover {\n",
              "      background-color: #E2EBFA;\n",
              "      box-shadow: 0px 1px 2px rgba(60, 64, 67, 0.3), 0px 1px 3px 1px rgba(60, 64, 67, 0.15);\n",
              "      fill: #174EA6;\n",
              "    }\n",
              "\n",
              "    [theme=dark] .colab-df-convert {\n",
              "      background-color: #3B4455;\n",
              "      fill: #D2E3FC;\n",
              "    }\n",
              "\n",
              "    [theme=dark] .colab-df-convert:hover {\n",
              "      background-color: #434B5C;\n",
              "      box-shadow: 0px 1px 3px 1px rgba(0, 0, 0, 0.15);\n",
              "      filter: drop-shadow(0px 1px 2px rgba(0, 0, 0, 0.3));\n",
              "      fill: #FFFFFF;\n",
              "    }\n",
              "  </style>\n",
              "\n",
              "      <script>\n",
              "        const buttonEl =\n",
              "          document.querySelector('#df-d0f926c7-b674-48fe-8347-bc3f49edd798 button.colab-df-convert');\n",
              "        buttonEl.style.display =\n",
              "          google.colab.kernel.accessAllowed ? 'block' : 'none';\n",
              "\n",
              "        async function convertToInteractive(key) {\n",
              "          const element = document.querySelector('#df-d0f926c7-b674-48fe-8347-bc3f49edd798');\n",
              "          const dataTable =\n",
              "            await google.colab.kernel.invokeFunction('convertToInteractive',\n",
              "                                                     [key], {});\n",
              "          if (!dataTable) return;\n",
              "\n",
              "          const docLinkHtml = 'Like what you see? Visit the ' +\n",
              "            '<a target=\"_blank\" href=https://colab.research.google.com/notebooks/data_table.ipynb>data table notebook</a>'\n",
              "            + ' to learn more about interactive tables.';\n",
              "          element.innerHTML = '';\n",
              "          dataTable['output_type'] = 'display_data';\n",
              "          await google.colab.output.renderOutput(dataTable, element);\n",
              "          const docLink = document.createElement('div');\n",
              "          docLink.innerHTML = docLinkHtml;\n",
              "          element.appendChild(docLink);\n",
              "        }\n",
              "      </script>\n",
              "    </div>\n",
              "  </div>\n",
              "  "
            ]
          },
          "metadata": {},
          "execution_count": 98
        }
      ]
    }
  ]
}